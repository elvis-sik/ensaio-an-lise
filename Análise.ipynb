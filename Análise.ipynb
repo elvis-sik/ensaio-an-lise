{
 "cells": [
  {
   "cell_type": "markdown",
   "metadata": {},
   "source": [
    "# Obtenção do E à partir dos vídeos "
   ]
  },
  {
   "cell_type": "code",
   "execution_count": 1,
   "metadata": {
    "collapsed": false
   },
   "outputs": [],
   "source": [
    "%matplotlib inline\n",
    "\n",
    "import numpy as np\n",
    "import pandas as pd\n",
    "import matplotlib.pyplot as plt\n",
    "from pint import UnitRegistry\n",
    "\n",
    "u = UnitRegistry()"
   ]
  },
  {
   "cell_type": "markdown",
   "metadata": {},
   "source": [
    "Medidas do canudo:"
   ]
  },
  {
   "cell_type": "code",
   "execution_count": 2,
   "metadata": {
    "collapsed": true
   },
   "outputs": [],
   "source": [
    "comprimento = 149 * u.mm # 149 milímetros\n",
    "diâmetro = 5.15 * u.mm # 5.15 milímetros\n",
    "espessura = 0.2 * u.mm # 0.2 milímetros\n",
    "massa = 0.4 * u.g # 0.4 gramas"
   ]
  },
  {
   "cell_type": "markdown",
   "metadata": {},
   "source": [
    "### Cálculo do $I$\n",
    "\n",
    "Fórmula do $I$\n",
    "\n",
    "$$ I = \\frac{\\pi (d_e^4 - d_i^4)}{64} $$"
   ]
  },
  {
   "cell_type": "code",
   "execution_count": 3,
   "metadata": {
    "collapsed": false
   },
   "outputs": [
    {
     "data": {
      "text/html": [
       "10.744001438351042 millimeter<sup>4</sup>"
      ],
      "text/latex": [
       "$10.744001438351042 millimeter^{4}$"
      ],
      "text/plain": [
       "<Quantity(10.744001438351042, 'millimeter ** 4')>"
      ]
     },
     "execution_count": 3,
     "metadata": {},
     "output_type": "execute_result"
    }
   ],
   "source": [
    "de = diâmetro + espessura\n",
    "di = diâmetro - espessura\n",
    "I = np.pi / 64 * (de**4 - di**4)\n",
    "I"
   ]
  },
  {
   "cell_type": "markdown",
   "metadata": {},
   "source": [
    "## Função para $E$"
   ]
  },
  {
   "cell_type": "markdown",
   "metadata": {},
   "source": [
    "A fórmula tirada dos relatórios é\n",
    "\n",
    "$$ E = \\frac{P_c L^2}{\\pi^2 I} $$\n",
    "\n",
    "Em que\n",
    "\n",
    "$$ P_c = m g $$\n",
    "\n",
    "E $m$ é a massa medida na balança, com tara incluindo o canudo e qualquer suporte inferior usado."
   ]
  },
  {
   "cell_type": "markdown",
   "metadata": {},
   "source": [
    "Aceleração da gravidade"
   ]
  },
  {
   "cell_type": "code",
   "execution_count": 4,
   "metadata": {
    "collapsed": true
   },
   "outputs": [],
   "source": [
    "g = 9.79 * u.m / u.s**2"
   ]
  },
  {
   "cell_type": "markdown",
   "metadata": {},
   "source": [
    "Função para calcular o E à partir da massa:"
   ]
  },
  {
   "cell_type": "code",
   "execution_count": 5,
   "metadata": {
    "collapsed": true
   },
   "outputs": [],
   "source": [
    "def E(massa_falha):\n",
    "    P = massa_falha * g\n",
    "    return P * comprimento**2 / np.pi**2 / I"
   ]
  },
  {
   "cell_type": "markdown",
   "metadata": {},
   "source": [
    "Tabela onde serão armazenados as massas de falha para análise posterior:"
   ]
  },
  {
   "cell_type": "code",
   "execution_count": 6,
   "metadata": {
    "collapsed": true
   },
   "outputs": [],
   "source": [
    "massas_falha = {}"
   ]
  },
  {
   "cell_type": "markdown",
   "metadata": {},
   "source": [
    "Concluo com a análise abaixo que submentendo uma massa de 200g e uma massa de 300g para a fórmula do E, a diferença relativa é de 33%.\n",
    "\n",
    "Fiz isso porque estava em dúvida se fazia muita diferença as massas adotadas. Deixo para a posteridade a questão de saber se 30% é muito, não sei como o valor do $E$ obtido vai ser usado depois."
   ]
  },
  {
   "cell_type": "code",
   "execution_count": 7,
   "metadata": {
    "collapsed": false
   },
   "outputs": [
    {
     "data": {
      "text/plain": [
       "33.33333333333335"
      ]
     },
     "execution_count": 7,
     "metadata": {},
     "output_type": "execute_result"
    }
   ],
   "source": [
    "massa1 = 200 * u.g\n",
    "massa2 = 300 * u.g\n",
    "E1 = E(massa1)\n",
    "E2 = E(massa2)\n",
    "np.abs((E1 - E2) / E2).magnitude * 100"
   ]
  },
  {
   "cell_type": "markdown",
   "metadata": {},
   "source": [
    "## Vídeos"
   ]
  },
  {
   "cell_type": "markdown",
   "metadata": {},
   "source": [
    "### Vídeo 1\n",
    "\n",
    "O ângulo não está bom. \n",
    "\n",
    "Parece que na foto 1 já está flambado com 46.6 gramas:\n",
    "![](./Fotos/1/2017-11-12-115755_422x496_scrot.png)\n",
    "\n",
    "Aqui com 102.6 está confuso ainda:\n",
    "![](./Fotos/1/2017-11-12-115807_467x579_scrot.png)\n",
    "\n",
    "Por fim, com 140.0 ele flamba aparentemente, e logo após esse momento desmonta\n",
    "![](./Fotos/1/2017-11-12-115755_422x496_scrot.png)"
   ]
  },
  {
   "cell_type": "code",
   "execution_count": 8,
   "metadata": {
    "collapsed": false
   },
   "outputs": [],
   "source": [
    "massas_falha[1] = 140.0 * u.g"
   ]
  },
  {
   "cell_type": "markdown",
   "metadata": {},
   "source": [
    "### Vídeo 2\n",
    "\n",
    "Também ficou mal feita.\n",
    "\n",
    "![](./Fotos/2/2017-11-12-142138_495x752_scrot.png)\n",
    "![](./Fotos/2/2017-11-12-142150_380x739_scrot.png)\n",
    "\n",
    "Pra mim, aqui que flamba:\n",
    "![](./Fotos/2/2017-11-12-142732_384x770_scrot.png)"
   ]
  },
  {
   "cell_type": "code",
   "execution_count": 9,
   "metadata": {
    "collapsed": true
   },
   "outputs": [],
   "source": [
    "massas_falha[2] = 187.0 * u.g"
   ]
  },
  {
   "cell_type": "markdown",
   "metadata": {},
   "source": [
    "### Vídeo 3\n",
    "\n",
    "![](./Fotos/3/2017-11-12-143003_379x718_scrot.png)\n",
    "![](./Fotos/3/2017-11-12-143046_319x691_scrot.png)\n",
    "\n",
    "Não sei se é o ângulo ruim, mas pra mim é aqui:\n",
    "![](./Fotos/3/2017-11-12-143059_298x686_scrot.png)\n",
    "![](./Fotos/3/2017-11-12-143115_215x631_scrot.png)\n",
    "![](./Fotos/3/2017-11-12-143152_277x773_scrot.png)\n",
    "![](./Fotos/3/2017-11-12-143208_244x675_scrot.png)"
   ]
  },
  {
   "cell_type": "code",
   "execution_count": 10,
   "metadata": {
    "collapsed": true
   },
   "outputs": [],
   "source": [
    "massas_falha[3] = 162.8 * u.g"
   ]
  },
  {
   "cell_type": "markdown",
   "metadata": {},
   "source": [
    "### Vídeo 4\n",
    "\n",
    "![](./Fotos/4/2017-11-12-143517_194x666_scrot.png)\n",
    "![](./Fotos/4/2017-11-12-143536_338x748_scrot.png)\n",
    "![](./Fotos/4/2017-11-12-143551_347x796_scrot.png)\n",
    "Pra mim é aqui:\n",
    "![](./Fotos/4/2017-11-12-143610_260x675_scrot.png)\n",
    "![](./Fotos/4/2017-11-12-143622_299x656_scrot.png)"
   ]
  },
  {
   "cell_type": "code",
   "execution_count": 11,
   "metadata": {
    "collapsed": true
   },
   "outputs": [],
   "source": [
    "massas_falha[4] = 245.5 * u.g"
   ]
  },
  {
   "cell_type": "markdown",
   "metadata": {},
   "source": [
    "### Vídeo 5\n",
    "\n",
    "![](./Fotos/5/2017-11-12-143839_281x690_scrot.png)\n",
    "\n",
    "Aqui acho que já falhou:\n",
    "![](./Fotos/5/2017-11-12-144034_291x655_scrot.png)\n",
    "\n",
    "![](./Fotos/5/2017-11-12-143934_334x716_scrot.png)"
   ]
  },
  {
   "cell_type": "code",
   "execution_count": 12,
   "metadata": {
    "collapsed": true
   },
   "outputs": [],
   "source": [
    "massas_falha[5] = 162.9 * u.g"
   ]
  },
  {
   "cell_type": "markdown",
   "metadata": {},
   "source": [
    "### Vídeo 6\n",
    "\n",
    "Esse é um que pareceu aguentar muito, no áudio eu falo várias vezes que tá indo, mas no vídeo me parece que flambou antes.\n",
    "\n",
    "Pra mim já tá duvidoso aqui:\n",
    "![](./Fotos/6/2017-11-12-144347_291x802_scrot.png)\n",
    "\n",
    "E aqui eu digo que flambou:\n",
    "![](./Fotos/6/2017-11-12-144403_262x773_scrot.png)\n",
    "![](./Fotos/6/2017-11-12-144410_359x798_scrot.png)\n",
    "![](./Fotos/6/2017-11-12-144415_306x823_scrot.png)\n",
    "![](./Fotos/6/2017-11-12-144428_248x769_scrot.png)\n",
    "![](./Fotos/6/2017-11-12-144442_335x732_scrot.png)\n",
    "![](./Fotos/6/2017-11-12-144457_357x816_scrot.png)\n",
    "![](./Fotos/6/2017-11-12-144516_364x779_scrot.png)\n",
    "![](./Fotos/6/2017-11-12-144528_392x787_scrot.png)\n",
    "![](./Fotos/6/2017-11-12-144548_221x728_scrot.png)\n",
    "![](./Fotos/6/2017-11-12-144616_160x674_scrot.png)\n",
    "![](./Fotos/6/2017-11-12-144645_197x579_scrot.png)\n",
    "![](./Fotos/6/2017-11-12-144717_211x668_scrot.png)\n",
    "![](./Fotos/6/2017-11-12-144725_210x654_scrot.png)"
   ]
  },
  {
   "cell_type": "code",
   "execution_count": 13,
   "metadata": {
    "collapsed": true
   },
   "outputs": [],
   "source": [
    "massas_falha[6] = 184.8 * u.g"
   ]
  },
  {
   "cell_type": "markdown",
   "metadata": {
    "collapsed": true
   },
   "source": [
    "### Vídeo 7\n",
    "\n",
    "![](./Fotos/7/2017-11-12-145042_250x616_scrot.png)\n",
    "Pra mim aqui já flambou:\n",
    "![](./Fotos/7/2017-11-12-145051_217x711_scrot.png)\n",
    "![](./Fotos/7/2017-11-12-145058_282x832_scrot.png)"
   ]
  },
  {
   "cell_type": "code",
   "execution_count": 14,
   "metadata": {
    "collapsed": true
   },
   "outputs": [],
   "source": [
    "massas_falha[7] = 200.8 * u.g"
   ]
  },
  {
   "cell_type": "markdown",
   "metadata": {},
   "source": [
    "### Vídeo 8\n",
    "\n",
    "Essa foi mais rápida, parece que já começou flambada:\n",
    "\n",
    "![](./Fotos/8/2017-11-12-145321_250x726_scrot.png)\n",
    "![](./Fotos/8/2017-11-12-145333_234x803_scrot.png)"
   ]
  },
  {
   "cell_type": "code",
   "execution_count": 15,
   "metadata": {
    "collapsed": true
   },
   "outputs": [],
   "source": [
    "massas_falha[8] = 115.8 * u.g"
   ]
  },
  {
   "cell_type": "markdown",
   "metadata": {},
   "source": [
    "### Vídeo 9\n",
    "\n",
    "Já de cara:\n",
    "![](./Fotos/9/2017-11-12-145511_308x884_scrot.png)"
   ]
  },
  {
   "cell_type": "code",
   "execution_count": 16,
   "metadata": {
    "collapsed": true
   },
   "outputs": [],
   "source": [
    "massas_falha[9] = 169.8 * u.g"
   ]
  },
  {
   "cell_type": "markdown",
   "metadata": {},
   "source": [
    "### Vídeo 10\n",
    "\n",
    "Foi feito com o dedo e não ficou legal, já desconsiderei."
   ]
  },
  {
   "cell_type": "markdown",
   "metadata": {},
   "source": [
    "## Análise\n",
    "\n",
    "### Sumário dos dados"
   ]
  },
  {
   "cell_type": "code",
   "execution_count": 17,
   "metadata": {
    "collapsed": false
   },
   "outputs": [
    {
     "data": {
      "text/plain": [
       "0    140.0\n",
       "1    187.0\n",
       "2    162.8\n",
       "3    245.5\n",
       "4    162.9\n",
       "5    184.8\n",
       "6    200.8\n",
       "7    115.8\n",
       "8    169.8\n",
       "dtype: float64"
      ]
     },
     "execution_count": 17,
     "metadata": {},
     "output_type": "execute_result"
    }
   ],
   "source": [
    "falhas = pd.Series(m.magnitude for m in massas_falha.values())\n",
    "falhas"
   ]
  },
  {
   "cell_type": "markdown",
   "metadata": {},
   "source": [
    "Abaixo, um sumário estatístico das 9 entradas. Média 174.38 g, desvio padrão 36.95 g, alguns percentis, máximo, mínimo e número de entradas:"
   ]
  },
  {
   "cell_type": "code",
   "execution_count": 18,
   "metadata": {
    "collapsed": false
   },
   "outputs": [
    {
     "data": {
      "text/plain": [
       "count      9.000000\n",
       "mean     174.377778\n",
       "std       36.953308\n",
       "min      115.800000\n",
       "25%      162.800000\n",
       "50%      169.800000\n",
       "75%      187.000000\n",
       "max      245.500000\n",
       "dtype: float64"
      ]
     },
     "execution_count": 18,
     "metadata": {},
     "output_type": "execute_result"
    }
   ],
   "source": [
    "falhas.describe()"
   ]
  },
  {
   "cell_type": "markdown",
   "metadata": {},
   "source": [
    "Mediana:"
   ]
  },
  {
   "cell_type": "code",
   "execution_count": 19,
   "metadata": {
    "collapsed": false
   },
   "outputs": [
    {
     "data": {
      "text/plain": [
       "169.8"
      ]
     },
     "execution_count": 19,
     "metadata": {},
     "output_type": "execute_result"
    }
   ],
   "source": [
    "falhas.median()"
   ]
  },
  {
   "cell_type": "markdown",
   "metadata": {},
   "source": [
    "Os dados:"
   ]
  },
  {
   "cell_type": "code",
   "execution_count": 20,
   "metadata": {
    "collapsed": false
   },
   "outputs": [
    {
     "data": {
      "image/png": "[encoded data removed]",
      "text/plain": [
       "<matplotlib.figure.Figure at 0x7f9950625908>"
      ]
     },
     "metadata": {},
     "output_type": "display_data"
    }
   ],
   "source": [
    "falhas.plot.bar()\n",
    "plt.show()"
   ]
  },
  {
   "cell_type": "markdown",
   "metadata": {},
   "source": [
    "Histograma:"
   ]
  },
  {
   "cell_type": "code",
   "execution_count": 21,
   "metadata": {
    "collapsed": false
   },
   "outputs": [
    {
     "data": {
      "image/png": "[encoded data removed]",
      "text/plain": [
       "<matplotlib.figure.Figure at 0x7f9913f7a860>"
      ]
     },
     "metadata": {},
     "output_type": "display_data"
    }
   ],
   "source": [
    "falhas.plot.hist()\n",
    "plt.show()"
   ]
  },
  {
   "cell_type": "markdown",
   "metadata": {},
   "source": [
    "### Calculando E\n",
    "\n",
    "Primeiro, usando a média e mediana, considerando os 9 vídeos que levei em conta.\n",
    "\n",
    "Média:"
   ]
  },
  {
   "cell_type": "code",
   "execution_count": 22,
   "metadata": {
    "collapsed": false
   },
   "outputs": [
    {
     "data": {
      "text/html": [
       "357.42141043398493 megapascal"
      ],
      "text/latex": [
       "$357.42141043398493 megapascal$"
      ],
      "text/plain": [
       "<Quantity(357.42141043398493, 'megapascal')>"
      ]
     },
     "execution_count": 22,
     "metadata": {},
     "output_type": "execute_result"
    }
   ],
   "source": [
    "E(falhas.mean() * u.g).to(u.MPa)"
   ]
  },
  {
   "cell_type": "markdown",
   "metadata": {},
   "source": [
    "Mediana:"
   ]
  },
  {
   "cell_type": "code",
   "execution_count": 23,
   "metadata": {
    "collapsed": false
   },
   "outputs": [
    {
     "data": {
      "text/html": [
       "348.0383582421408 megapascal"
      ],
      "text/latex": [
       "$348.0383582421408 megapascal$"
      ],
      "text/plain": [
       "<Quantity(348.0383582421408, 'megapascal')>"
      ]
     },
     "execution_count": 23,
     "metadata": {},
     "output_type": "execute_result"
    }
   ],
   "source": [
    "E(falhas.median() * u.g).to(u.MPa)"
   ]
  },
  {
   "cell_type": "markdown",
   "metadata": {},
   "source": [
    "Agora, refarei os mesmos cálculos mas descartando o maior valor:"
   ]
  },
  {
   "cell_type": "code",
   "execution_count": 24,
   "metadata": {
    "collapsed": false
   },
   "outputs": [
    {
     "data": {
      "text/plain": [
       "0    140.0\n",
       "1    187.0\n",
       "2    162.8\n",
       "3    245.5\n",
       "4    162.9\n",
       "5    184.8\n",
       "6    200.8\n",
       "7    115.8\n",
       "8    169.8\n",
       "dtype: float64"
      ]
     },
     "execution_count": 24,
     "metadata": {},
     "output_type": "execute_result"
    }
   ],
   "source": [
    "sem_máx = falhas.copy()\n",
    "sem_máx"
   ]
  },
  {
   "cell_type": "code",
   "execution_count": 25,
   "metadata": {
    "collapsed": false
   },
   "outputs": [
    {
     "data": {
      "text/plain": [
       "0    140.0\n",
       "1    187.0\n",
       "2    162.8\n",
       "4    162.9\n",
       "5    184.8\n",
       "6    200.8\n",
       "7    115.8\n",
       "8    169.8\n",
       "dtype: float64"
      ]
     },
     "execution_count": 25,
     "metadata": {},
     "output_type": "execute_result"
    }
   ],
   "source": [
    "sem_máx.drop(3, inplace=True)\n",
    "sem_máx"
   ]
  },
  {
   "cell_type": "code",
   "execution_count": 26,
   "metadata": {
    "collapsed": false
   },
   "outputs": [
    {
     "data": {
      "text/plain": [
       "count      8.000000\n",
       "mean     165.487500\n",
       "std       27.343604\n",
       "min      115.800000\n",
       "25%      157.100000\n",
       "50%      166.350000\n",
       "75%      185.350000\n",
       "max      200.800000\n",
       "dtype: float64"
      ]
     },
     "execution_count": 26,
     "metadata": {},
     "output_type": "execute_result"
    }
   ],
   "source": [
    "sem_máx.describe()"
   ]
  },
  {
   "cell_type": "code",
   "execution_count": 27,
   "metadata": {
    "collapsed": false
   },
   "outputs": [
    {
     "data": {
      "text/plain": [
       "166.35000000000002"
      ]
     },
     "execution_count": 27,
     "metadata": {},
     "output_type": "execute_result"
    }
   ],
   "source": [
    "sem_máx.median()"
   ]
  },
  {
   "cell_type": "markdown",
   "metadata": {},
   "source": [
    "Média:"
   ]
  },
  {
   "cell_type": "code",
   "execution_count": 28,
   "metadata": {
    "collapsed": false
   },
   "outputs": [
    {
     "data": {
      "text/html": [
       "339.1990448150546 megapascal"
      ],
      "text/latex": [
       "$339.1990448150546 megapascal$"
      ],
      "text/plain": [
       "<Quantity(339.1990448150546, 'megapascal')>"
      ]
     },
     "execution_count": 28,
     "metadata": {},
     "output_type": "execute_result"
    }
   ],
   "source": [
    "E(sem_máx.mean() * u.g).to(u.MPa)"
   ]
  },
  {
   "cell_type": "markdown",
   "metadata": {},
   "source": [
    "Mediana:"
   ]
  },
  {
   "cell_type": "code",
   "execution_count": 29,
   "metadata": {
    "collapsed": false
   },
   "outputs": [
    {
     "data": {
      "text/html": [
       "340.9669075004719 megapascal"
      ],
      "text/latex": [
       "$340.9669075004719 megapascal$"
      ],
      "text/plain": [
       "<Quantity(340.9669075004719, 'megapascal')>"
      ]
     },
     "execution_count": 29,
     "metadata": {},
     "output_type": "execute_result"
    }
   ],
   "source": [
    "E(sem_máx.median() * u.g).to(u.MPa)"
   ]
  }
 ],
 "metadata": {
  "kernelspec": {
   "display_name": "Python [conda env:sci]",
   "language": "python",
   "name": "conda-env-sci-py"
  },
  "language_info": {
   "codemirror_mode": {
    "name": "ipython",
    "version": 3
   },
   "file_extension": ".py",
   "mimetype": "text/x-python",
   "name": "python",
   "nbconvert_exporter": "python",
   "pygments_lexer": "ipython3",
   "version": "3.5.2"
  },
  "latex_envs": {
   "bibliofile": "biblio.bib",
   "cite_by": "apalike",
   "current_citInitial": 1,
   "eqLabelWithNumbers": true,
   "eqNumInitial": 0
  }
 },
 "nbformat": 4,
 "nbformat_minor": 2
}
